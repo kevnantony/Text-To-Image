{
 "cells": [
  {
   "cell_type": "code",
   "execution_count": 1,
   "id": "b860ebe5-ef5b-4d25-9df7-410715223e6c",
   "metadata": {},
   "outputs": [],
   "source": [
    "import sys\n",
    "sys.path.insert(1,'/home/ubuntu/text-to-img/cdk/Version2')"
   ]
  },
  {
   "cell_type": "code",
   "execution_count": 3,
   "id": "1f508d78-ab56-47b2-bb99-fd3be16a11ea",
   "metadata": {},
   "outputs": [
    {
     "name": "stderr",
     "output_type": "stream",
     "text": [
      "Loading pipeline components...:   0%|                 | 0/7 [00:00<?, ?it/s]An error occurred while trying to fetch /home/ubuntu/.cache/huggingface/hub/models--CompVis--stable-diffusion-v1-4/snapshots/2880f2ca379f41b0226444936bb7a6766a227587/unet: Error no file named diffusion_pytorch_model.safetensors found in directory /home/ubuntu/.cache/huggingface/hub/models--CompVis--stable-diffusion-v1-4/snapshots/2880f2ca379f41b0226444936bb7a6766a227587/unet.\n",
      "Defaulting to unsafe serialization. Pass `allow_pickle=False` to raise an error instead.\n",
      "Loading pipeline components...:  29%|██▌      | 2/7 [00:01<00:03,  1.58it/s]/opt/conda/envs/myenv/lib/python3.12/site-packages/transformers/models/clip/feature_extraction_clip.py:28: FutureWarning: The class CLIPFeatureExtractor is deprecated and will be removed in version 5 of Transformers. Please use CLIPImageProcessor instead.\n",
      "  warnings.warn(\n",
      "Loading pipeline components...:  57%|█████▏   | 4/7 [00:01<00:00,  3.02it/s]An error occurred while trying to fetch /home/ubuntu/.cache/huggingface/hub/models--CompVis--stable-diffusion-v1-4/snapshots/2880f2ca379f41b0226444936bb7a6766a227587/vae: Error no file named diffusion_pytorch_model.safetensors found in directory /home/ubuntu/.cache/huggingface/hub/models--CompVis--stable-diffusion-v1-4/snapshots/2880f2ca379f41b0226444936bb7a6766a227587/vae.\n",
      "Defaulting to unsafe serialization. Pass `allow_pickle=False` to raise an error instead.\n",
      "Loading pipeline components...:  71%|██████▍  | 5/7 [00:01<00:00,  3.59it/s]/opt/conda/envs/myenv/lib/python3.12/site-packages/transformers/tokenization_utils_base.py:1601: FutureWarning: `clean_up_tokenization_spaces` was not set. It will be set to `True` by default. This behavior will be depracted in transformers v4.45, and will be then set to `False` by default. For more details check this issue: https://github.com/huggingface/transformers/issues/31884\n",
      "  warnings.warn(\n",
      "Loading pipeline components...: 100%|█████████| 7/7 [00:01<00:00,  3.57it/s]\n"
     ]
    }
   ],
   "source": [
    "import gradio as gr\n",
    "import model"
   ]
  },
  {
   "cell_type": "code",
   "execution_count": 8,
   "id": "719d284a-ddd9-4749-93af-fbd39b4881c3",
   "metadata": {},
   "outputs": [
    {
     "name": "stdout",
     "output_type": "stream",
     "text": [
      "Running on local URL:  http://127.0.0.1:7862\n",
      "Running on public URL: https://605cec8e5eec138aac.gradio.live\n",
      "\n",
      "This share link expires in 72 hours. For free permanent hosting and GPU upgrades, run `gradio deploy` from Terminal to deploy to Spaces (https://huggingface.co/spaces)\n"
     ]
    },
    {
     "data": {
      "text/html": [
       "<div><iframe src=\"https://605cec8e5eec138aac.gradio.live\" width=\"100%\" height=\"500\" allow=\"autoplay; camera; microphone; clipboard-read; clipboard-write;\" frameborder=\"0\" allowfullscreen></iframe></div>"
      ],
      "text/plain": [
       "<IPython.core.display.HTML object>"
      ]
     },
     "metadata": {},
     "output_type": "display_data"
    },
    {
     "data": {
      "text/plain": []
     },
     "execution_count": 8,
     "metadata": {},
     "output_type": "execute_result"
    },
    {
     "name": "stderr",
     "output_type": "stream",
     "text": [
      "100%|███████████████████████████████████████| 50/50 [00:08<00:00,  6.04it/s]\n",
      "100%|███████████████████████████████████████| 50/50 [00:07<00:00,  6.85it/s]\n"
     ]
    }
   ],
   "source": [
    "def gradio_interface(prompt, num_images=4, guidance_scale=7.5):\n",
    "    images = model.generate_image(prompt, num_images, guidance_scale)\n",
    "    return images\n",
    "\n",
    "demo = gr.Interface(\n",
    "    fn=gradio_interface,\n",
    "    inputs=[\n",
    "        gr.Textbox(label=\"Prompt\", placeholder=\"Enter prompt here\"),\n",
    "        gr.Slider(label=\"Number of Images\", minimum=1, maximum=10, value=4, step=1),\n",
    "        gr.Slider(label=\"Guidance Scale\", minimum=0, maximum=20, value=7.5, step=0.5)\n",
    "    ],\n",
    "    outputs=gr.Gallery(label=\"Generated Images\"),  # Corrected 'output' to 'outputs'\n",
    "    title=\"Stable Diffusion Image Generator\",       # Corrected 'titles' to 'title'\n",
    "    description=\"Generate images using the Stable Diffusion model.\"  # Corrected 'descriptions' to 'description'\n",
    ")\n",
    "\n",
    "demo.launch(share=True)"
   ]
  }
 ],
 "metadata": {
  "kernelspec": {
   "display_name": "Python (myenv)",
   "language": "python",
   "name": "myenv"
  },
  "language_info": {
   "codemirror_mode": {
    "name": "ipython",
    "version": 3
   },
   "file_extension": ".py",
   "mimetype": "text/x-python",
   "name": "python",
   "nbconvert_exporter": "python",
   "pygments_lexer": "ipython3",
   "version": "3.12.4"
  }
 },
 "nbformat": 4,
 "nbformat_minor": 5
}
